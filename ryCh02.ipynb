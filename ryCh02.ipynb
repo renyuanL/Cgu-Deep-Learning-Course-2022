{
 "cells": [
  {
   "cell_type": "markdown",
   "id": "4023bfc6-22aa-4545-8c19-48b4ae101a3b",
   "metadata": {},
   "source": [
    "# 長庚大學 資工系/人工智慧學程  樣形識別/深度學習 課程使用之教材及示範程式 Ch02"
   ]
  },
  {
   "cell_type": "code",
   "execution_count": 1,
   "id": "fe262b16-1ad9-4057-8abf-188f9f0ed3dc",
   "metadata": {},
   "outputs": [],
   "source": [
    "import numpy as np\n",
    "import tensorflow as tf\n",
    "import tensorflow.keras as keras"
   ]
  },
  {
   "cell_type": "code",
   "execution_count": 2,
   "id": "c5f9aa07-85d8-47f3-a8a9-edd2264ea3fb",
   "metadata": {},
   "outputs": [],
   "source": [
    "(xr,yr), (xt,yt)= keras.datasets.mnist.load_data()"
   ]
  },
  {
   "cell_type": "code",
   "execution_count": 13,
   "id": "8c5713fc-00c8-4659-8831-21ba3832f17e",
   "metadata": {},
   "outputs": [
    {
     "data": {
      "text/plain": [
       "((60000, 28, 28), (60000,), (10000, 28, 28), (10000,))"
      ]
     },
     "execution_count": 13,
     "metadata": {},
     "output_type": "execute_result"
    }
   ],
   "source": [
    "xr.shape, yr.shape, xt.shape, yt.shape"
   ]
  },
  {
   "cell_type": "code",
   "execution_count": 20,
   "id": "66533075-600c-49d1-9a29-4f3e5d8d7b03",
   "metadata": {},
   "outputs": [
    {
     "name": "stdout",
     "output_type": "stream",
     "text": [
      "  0  0  0  0  0  0  0  0  0  0  0  0  0  0  0  0  0  0  0  0  0  0  0  0  0  0  0  0\n",
      "  0  0  0  0  0  0  0  0  0  0  0  0  0  0  0  0  0  0  0  0  0  0  0  0  0  0  0  0\n",
      "  0  0  0  0  0  0  0  0  0  0  0  0  0  0  0  0  0  0  0  0  0  0  0  0  0  0  0  0\n",
      "  0  0  0  0  0  0  0  0  0  0  0  0  0  0  0  0  0  0  0  0  0  0  0  0  0  0  0  0\n",
      "  0  0  0  0  0  0  0  0  0  0  0  0  0  0  0  0  0  0  0  0  0  0  0  0  0  0  0  0\n",
      "  0  0  0  0  0  0  0  0  0  0  0  0  3 18 18 18126136175 26166255247127  0  0  0  0\n",
      "  0  0  0  0  0  0  0  0 30 36 94154170253253253253253225172253242195 64  0  0  0  0\n",
      "  0  0  0  0  0  0  0 49238253253253253253253253253251 93 82 82 56 39  0  0  0  0  0\n",
      "  0  0  0  0  0  0  0 18219253253253253253198182247241  0  0  0  0  0  0  0  0  0  0\n",
      "  0  0  0  0  0  0  0  0 80156107253253205 11  0 43154  0  0  0  0  0  0  0  0  0  0\n",
      "  0  0  0  0  0  0  0  0  0 14  1154253 90  0  0  0  0  0  0  0  0  0  0  0  0  0  0\n",
      "  0  0  0  0  0  0  0  0  0  0  0139253190  2  0  0  0  0  0  0  0  0  0  0  0  0  0\n",
      "  0  0  0  0  0  0  0  0  0  0  0 11190253 70  0  0  0  0  0  0  0  0  0  0  0  0  0\n",
      "  0  0  0  0  0  0  0  0  0  0  0  0 35241225160108  1  0  0  0  0  0  0  0  0  0  0\n",
      "  0  0  0  0  0  0  0  0  0  0  0  0  0 81240253253119 25  0  0  0  0  0  0  0  0  0\n",
      "  0  0  0  0  0  0  0  0  0  0  0  0  0  0 45186253253150 27  0  0  0  0  0  0  0  0\n",
      "  0  0  0  0  0  0  0  0  0  0  0  0  0  0  0 16 93252253187  0  0  0  0  0  0  0  0\n",
      "  0  0  0  0  0  0  0  0  0  0  0  0  0  0  0  0  0249253249 64  0  0  0  0  0  0  0\n",
      "  0  0  0  0  0  0  0  0  0  0  0  0  0  0 46130183253253207  2  0  0  0  0  0  0  0\n",
      "  0  0  0  0  0  0  0  0  0  0  0  0 39148229253253253250182  0  0  0  0  0  0  0  0\n",
      "  0  0  0  0  0  0  0  0  0  0 24114221253253253253201 78  0  0  0  0  0  0  0  0  0\n",
      "  0  0  0  0  0  0  0  0 23 66213253253253253198 81  2  0  0  0  0  0  0  0  0  0  0\n",
      "  0  0  0  0  0  0 18171219253253253253195 80  9  0  0  0  0  0  0  0  0  0  0  0  0\n",
      "  0  0  0  0 55172226253253253253244133 11  0  0  0  0  0  0  0  0  0  0  0  0  0  0\n",
      "  0  0  0  0136253253253212135132 16  0  0  0  0  0  0  0  0  0  0  0  0  0  0  0  0\n",
      "  0  0  0  0  0  0  0  0  0  0  0  0  0  0  0  0  0  0  0  0  0  0  0  0  0  0  0  0\n",
      "  0  0  0  0  0  0  0  0  0  0  0  0  0  0  0  0  0  0  0  0  0  0  0  0  0  0  0  0\n",
      "  0  0  0  0  0  0  0  0  0  0  0  0  0  0  0  0  0  0  0  0  0  0  0  0  0  0  0  0\n"
     ]
    }
   ],
   "source": [
    "x= xr[0]\n",
    "#%%\n",
    "for i in range(28):\n",
    "    for j in range(28):\n",
    "        z= x[i,j]\n",
    "        print(f'{z:3d}', end='')\n",
    "    print()"
   ]
  },
  {
   "cell_type": "code",
   "execution_count": 17,
   "id": "0c746e80-cd34-424c-b622-010923ce355a",
   "metadata": {},
   "outputs": [
    {
     "data": {
      "text/plain": [
       "<matplotlib.image.AxesImage at 0x14c639e3ee0>"
      ]
     },
     "execution_count": 17,
     "metadata": {},
     "output_type": "execute_result"
    },
    {
     "data": {
      "image/png": "[encoded data removed]",
      "text/plain": [
       "<Figure size 432x288 with 1 Axes>"
      ]
     },
     "metadata": {
      "needs_background": "light"
     },
     "output_type": "display_data"
    }
   ],
   "source": [
    "import matplotlib.pyplot as pl\n",
    "pl.imshow(x)"
   ]
  },
  {
   "cell_type": "code",
   "execution_count": 19,
   "id": "ff90b2c5-df90-456c-aa2d-358a8e892c16",
   "metadata": {},
   "outputs": [
    {
     "name": "stdout",
     "output_type": "stream",
     "text": [
      "y= 5\n"
     ]
    }
   ],
   "source": [
    "y= yr[0]\n",
    "print(f'{y= }')"
   ]
  },
  {
   "cell_type": "code",
   "execution_count": null,
   "id": "063eac0e-84ee-4c81-8b81-df98d98ce392",
   "metadata": {},
   "outputs": [],
   "source": []
  },
  {
   "cell_type": "code",
   "execution_count": 21,
   "id": "7ad94416-53ca-4b00-96b6-936e8fe43f25",
   "metadata": {},
   "outputs": [],
   "source": [
    "xr1= xr.reshape(-1, 28*28) \n",
    "xt1= xt.reshape(-1, 28*28) "
   ]
  },
  {
   "cell_type": "code",
   "execution_count": 4,
   "id": "ca5c4e61-86a6-4584-b848-28dac41af1c0",
   "metadata": {},
   "outputs": [
    {
     "name": "stdout",
     "output_type": "stream",
     "text": [
      "Epoch 1/10\n",
      "600/600 [==============================] - 2s 3ms/step - loss: 3.1503 - accuracy: 0.1295\n",
      "Epoch 2/10\n",
      "600/600 [==============================] - 2s 3ms/step - loss: 2.3040 - accuracy: 0.1114\n",
      "Epoch 3/10\n",
      "600/600 [==============================] - 2s 3ms/step - loss: 2.3040 - accuracy: 0.1114\n",
      "Epoch 4/10\n",
      "600/600 [==============================] - 2s 3ms/step - loss: 2.3040 - accuracy: 0.1114\n",
      "Epoch 5/10\n",
      "600/600 [==============================] - 2s 3ms/step - loss: 2.3040 - accuracy: 0.1114\n",
      "Epoch 6/10\n",
      "600/600 [==============================] - 2s 3ms/step - loss: 2.3040 - accuracy: 0.1114\n",
      "Epoch 7/10\n",
      "600/600 [==============================] - 2s 3ms/step - loss: 2.3040 - accuracy: 0.1114\n",
      "Epoch 8/10\n",
      "600/600 [==============================] - 2s 3ms/step - loss: 2.3040 - accuracy: 0.1114\n",
      "Epoch 9/10\n",
      "600/600 [==============================] - 2s 4ms/step - loss: 2.3040 - accuracy: 0.1114\n",
      "Epoch 10/10\n",
      "600/600 [==============================] - 2s 4ms/step - loss: 2.3040 - accuracy: 0.1114\n",
      "313/313 [==============================] - 1s 2ms/step - loss: 2.3042 - accuracy: 0.1131\n"
     ]
    },
    {
     "data": {
      "text/plain": [
       "[2.3042027950286865, 0.11309999972581863]"
      ]
     },
     "execution_count": 4,
     "metadata": {},
     "output_type": "execute_result"
    }
   ],
   "source": [
    "aModel= keras.Sequential([\n",
    "    keras.Input(28*28),\n",
    "    keras.layers.Dense(100),    \n",
    "    keras.layers.Dense(10)   \n",
    "    ])\n",
    "\n",
    "aModel.compile(\n",
    "    loss=     'sparse_categorical_crossentropy',\n",
    "    metrics= ['accuracy']\n",
    "    )\n",
    "\n",
    "aModel.fit(xr1, yr, \n",
    "           epochs= 10, \n",
    "           batch_size= 100)\n",
    "\n",
    "aModel.evaluate(xt1, yt)"
   ]
  },
  {
   "cell_type": "code",
   "execution_count": 5,
   "id": "660230a5-6afe-45c7-b698-7c7d9054e4c5",
   "metadata": {},
   "outputs": [
    {
     "name": "stdout",
     "output_type": "stream",
     "text": [
      "Epoch 1/10\n",
      "600/600 [==============================] - 2s 3ms/step - loss: 2.3006 - accuracy: 0.2971\n",
      "Epoch 2/10\n",
      "600/600 [==============================] - 2s 3ms/step - loss: 2.0765 - accuracy: 0.3327\n",
      "Epoch 3/10\n",
      "600/600 [==============================] - 2s 3ms/step - loss: 2.1026 - accuracy: 0.3955\n",
      "Epoch 4/10\n",
      "600/600 [==============================] - 2s 3ms/step - loss: 1.9693 - accuracy: 0.4357\n",
      "Epoch 5/10\n",
      "600/600 [==============================] - 2s 3ms/step - loss: 2.0702 - accuracy: 0.4785\n",
      "Epoch 6/10\n",
      "600/600 [==============================] - 2s 3ms/step - loss: 1.9153 - accuracy: 0.4843\n",
      "Epoch 7/10\n",
      "600/600 [==============================] - 2s 3ms/step - loss: 2.0063 - accuracy: 0.4874\n",
      "Epoch 8/10\n",
      "600/600 [==============================] - 2s 3ms/step - loss: 1.9600 - accuracy: 0.4934\n",
      "Epoch 9/10\n",
      "600/600 [==============================] - 2s 3ms/step - loss: 2.0748 - accuracy: 0.4996\n",
      "Epoch 10/10\n",
      "600/600 [==============================] - 2s 3ms/step - loss: 2.0438 - accuracy: 0.4920\n",
      "313/313 [==============================] - 1s 2ms/step - loss: 2.0650 - accuracy: 0.4879\n"
     ]
    },
    {
     "data": {
      "text/plain": [
       "[2.0650405883789062, 0.4878999888896942]"
      ]
     },
     "execution_count": 5,
     "metadata": {},
     "output_type": "execute_result"
    }
   ],
   "source": [
    "\n",
    "aModel= keras.Sequential([\n",
    "    keras.Input(28*28),\n",
    "    keras.layers.Dense(100, activation= 'sigmoid'),    \n",
    "    keras.layers.Dense(10)   \n",
    "    ])\n",
    "\n",
    "aModel.compile(\n",
    "    loss=     'sparse_categorical_crossentropy',\n",
    "    metrics= ['accuracy']\n",
    "    )\n",
    "\n",
    "aModel.fit(xr1, yr, \n",
    "           epochs= 10, \n",
    "           batch_size= 100)\n",
    "\n",
    "aModel.evaluate(xt1, yt)"
   ]
  },
  {
   "cell_type": "code",
   "execution_count": 6,
   "id": "97b0333d-21ee-4392-911d-24d462fe67fd",
   "metadata": {},
   "outputs": [
    {
     "name": "stdout",
     "output_type": "stream",
     "text": [
      "Epoch 1/10\n",
      "600/600 [==============================] - 2s 2ms/step - loss: 0.5650 - accuracy: 0.8435\n",
      "Epoch 2/10\n",
      "600/600 [==============================] - 1s 2ms/step - loss: 0.2981 - accuracy: 0.9116\n",
      "Epoch 3/10\n",
      "600/600 [==============================] - 1s 2ms/step - loss: 0.2570 - accuracy: 0.9240\n",
      "Epoch 4/10\n",
      "600/600 [==============================] - 1s 2ms/step - loss: 0.2353 - accuracy: 0.9294\n",
      "Epoch 5/10\n",
      "600/600 [==============================] - 1s 2ms/step - loss: 0.2172 - accuracy: 0.9354\n",
      "Epoch 6/10\n",
      "600/600 [==============================] - 1s 2ms/step - loss: 0.2085 - accuracy: 0.9369\n",
      "Epoch 7/10\n",
      "600/600 [==============================] - 1s 2ms/step - loss: 0.1979 - accuracy: 0.9406\n",
      "Epoch 8/10\n",
      "600/600 [==============================] - 1s 2ms/step - loss: 0.1900 - accuracy: 0.9432\n",
      "Epoch 9/10\n",
      "600/600 [==============================] - 1s 2ms/step - loss: 0.1884 - accuracy: 0.9433\n",
      "Epoch 10/10\n",
      "600/600 [==============================] - 1s 2ms/step - loss: 0.1826 - accuracy: 0.9448\n",
      "313/313 [==============================] - 1s 2ms/step - loss: 0.1859 - accuracy: 0.9440\n"
     ]
    },
    {
     "data": {
      "text/plain": [
       "[0.1859387755393982, 0.9440000057220459]"
      ]
     },
     "execution_count": 6,
     "metadata": {},
     "output_type": "execute_result"
    }
   ],
   "source": [
    "aModel= keras.Sequential([\n",
    "    keras.Input(28*28),\n",
    "    keras.layers.Dense(100, activation= 'sigmoid'),    \n",
    "    keras.layers.Dense(10,  activation= 'sigmoid')\n",
    "    ])\n",
    "\n",
    "aModel.compile(\n",
    "    loss=     'sparse_categorical_crossentropy',\n",
    "    metrics= ['accuracy']\n",
    "    )\n",
    "\n",
    "aModel.fit(xr1, yr, \n",
    "           epochs= 10, \n",
    "           batch_size= 100)\n",
    "\n",
    "aModel.evaluate(xt1, yt)"
   ]
  },
  {
   "cell_type": "code",
   "execution_count": 7,
   "id": "8a9719cd-be71-4769-be2a-90e07ce7d4ea",
   "metadata": {},
   "outputs": [
    {
     "name": "stdout",
     "output_type": "stream",
     "text": [
      "Epoch 1/10\n",
      "600/600 [==============================] - 2s 2ms/step - loss: 4.0503 - accuracy: 0.8504\n",
      "Epoch 2/10\n",
      "600/600 [==============================] - 1s 2ms/step - loss: 0.4713 - accuracy: 0.9187\n",
      "Epoch 3/10\n",
      "600/600 [==============================] - 2s 3ms/step - loss: 0.3510 - accuracy: 0.9383\n",
      "Epoch 4/10\n",
      "600/600 [==============================] - 2s 3ms/step - loss: 0.2971 - accuracy: 0.9459\n",
      "Epoch 5/10\n",
      "600/600 [==============================] - 2s 3ms/step - loss: 0.2639 - accuracy: 0.9537\n",
      "Epoch 6/10\n",
      "600/600 [==============================] - 2s 3ms/step - loss: 0.2407 - accuracy: 0.9583\n",
      "Epoch 7/10\n",
      "600/600 [==============================] - 2s 3ms/step - loss: 0.2255 - accuracy: 0.9615\n",
      "Epoch 8/10\n",
      "600/600 [==============================] - 2s 3ms/step - loss: 0.2036 - accuracy: 0.9651\n",
      "Epoch 9/10\n",
      "600/600 [==============================] - 2s 3ms/step - loss: 0.1979 - accuracy: 0.9682\n",
      "Epoch 10/10\n",
      "600/600 [==============================] - 2s 3ms/step - loss: 0.1740 - accuracy: 0.9694\n",
      "313/313 [==============================] - 1s 2ms/step - loss: 0.5559 - accuracy: 0.9455\n"
     ]
    },
    {
     "data": {
      "text/plain": [
       "[0.5559260845184326, 0.9455000162124634]"
      ]
     },
     "execution_count": 7,
     "metadata": {},
     "output_type": "execute_result"
    }
   ],
   "source": [
    "aModel= keras.Sequential([\n",
    "    keras.Input(28*28),\n",
    "    keras.layers.Dense(100, activation= 'relu'),    \n",
    "    keras.layers.Dense(10,  activation= 'sigmoid')\n",
    "    ])\n",
    "\n",
    "aModel.compile(\n",
    "    loss=     'sparse_categorical_crossentropy',\n",
    "    metrics= ['accuracy']\n",
    "    )\n",
    "\n",
    "aModel.fit(xr1, yr, \n",
    "           epochs= 10, \n",
    "           batch_size= 100)\n",
    "\n",
    "aModel.evaluate(xt1, yt)"
   ]
  },
  {
   "cell_type": "code",
   "execution_count": 8,
   "id": "34818214-d878-4d87-a0f4-f03f6e34f653",
   "metadata": {},
   "outputs": [
    {
     "name": "stdout",
     "output_type": "stream",
     "text": [
      "Epoch 1/10\n",
      "600/600 [==============================] - 2s 3ms/step - loss: 3.6306 - accuracy: 0.8566\n",
      "Epoch 2/10\n",
      "600/600 [==============================] - 2s 3ms/step - loss: 0.5140 - accuracy: 0.9146\n",
      "Epoch 3/10\n",
      "600/600 [==============================] - 2s 3ms/step - loss: 0.3616 - accuracy: 0.9367\n",
      "Epoch 4/10\n",
      "600/600 [==============================] - 2s 3ms/step - loss: 0.3029 - accuracy: 0.9461\n",
      "Epoch 5/10\n",
      "600/600 [==============================] - 2s 3ms/step - loss: 0.2671 - accuracy: 0.9547\n",
      "Epoch 6/10\n",
      "600/600 [==============================] - 2s 4ms/step - loss: 0.2322 - accuracy: 0.9597\n",
      "Epoch 7/10\n",
      "600/600 [==============================] - 2s 3ms/step - loss: 0.2173 - accuracy: 0.9610\n",
      "Epoch 8/10\n",
      "600/600 [==============================] - 2s 3ms/step - loss: 0.2002 - accuracy: 0.9650\n",
      "Epoch 9/10\n",
      "600/600 [==============================] - 2s 3ms/step - loss: 0.1991 - accuracy: 0.9668\n",
      "Epoch 10/10\n",
      "600/600 [==============================] - 2s 3ms/step - loss: 0.1776 - accuracy: 0.9697\n",
      "313/313 [==============================] - 1s 2ms/step - loss: 0.4979 - accuracy: 0.9508\n"
     ]
    },
    {
     "data": {
      "text/plain": [
       "[0.49793851375579834, 0.9508000016212463]"
      ]
     },
     "execution_count": 8,
     "metadata": {},
     "output_type": "execute_result"
    }
   ],
   "source": [
    "aModel= keras.Sequential([\n",
    "    keras.Input(28*28),\n",
    "    keras.layers.Dense(100, activation= 'relu'),    \n",
    "    keras.layers.Dense(10,  activation= 'softmax')\n",
    "    ])\n",
    "\n",
    "aModel.compile(\n",
    "    loss=     'sparse_categorical_crossentropy',\n",
    "    metrics= ['accuracy']\n",
    "    )\n",
    "\n",
    "aModel.fit(xr1, yr, \n",
    "           epochs= 10, \n",
    "           batch_size= 100)\n",
    "\n",
    "aModel.evaluate(xt1, yt)"
   ]
  },
  {
   "cell_type": "code",
   "execution_count": 9,
   "id": "74f3c7bf-a031-4fd7-8456-93373a73bb68",
   "metadata": {},
   "outputs": [
    {
     "name": "stdout",
     "output_type": "stream",
     "text": [
      "Epoch 1/10\n",
      "600/600 [==============================] - 2s 2ms/step - loss: 0.3378 - accuracy: 0.9065\n",
      "Epoch 2/10\n",
      "600/600 [==============================] - 1s 2ms/step - loss: 0.1642 - accuracy: 0.9527\n",
      "Epoch 3/10\n",
      "600/600 [==============================] - 1s 2ms/step - loss: 0.1175 - accuracy: 0.9661\n",
      "Epoch 4/10\n",
      "600/600 [==============================] - 1s 2ms/step - loss: 0.0925 - accuracy: 0.9726\n",
      "Epoch 5/10\n",
      "600/600 [==============================] - 1s 2ms/step - loss: 0.0759 - accuracy: 0.9778\n",
      "Epoch 6/10\n",
      "600/600 [==============================] - 1s 2ms/step - loss: 0.0642 - accuracy: 0.9807\n",
      "Epoch 7/10\n",
      "600/600 [==============================] - 1s 2ms/step - loss: 0.0551 - accuracy: 0.9838\n",
      "Epoch 8/10\n",
      "600/600 [==============================] - 1s 2ms/step - loss: 0.0475 - accuracy: 0.9863\n",
      "Epoch 9/10\n",
      "600/600 [==============================] - 1s 2ms/step - loss: 0.0424 - accuracy: 0.9877\n",
      "Epoch 10/10\n",
      "600/600 [==============================] - 1s 2ms/step - loss: 0.0374 - accuracy: 0.9895\n",
      "313/313 [==============================] - 1s 2ms/step - loss: 0.0780 - accuracy: 0.9778\n"
     ]
    },
    {
     "data": {
      "text/plain": [
       "[0.0780145674943924, 0.9778000116348267]"
      ]
     },
     "execution_count": 9,
     "metadata": {},
     "output_type": "execute_result"
    }
   ],
   "source": [
    "xr1= xr.reshape(-1,28*28) /255\n",
    "xt1= xt.reshape(-1,28*28) /255\n",
    "\n",
    "\n",
    "aModel= keras.Sequential([\n",
    "    keras.Input(28*28),\n",
    "    keras.layers.Dense(100, activation= 'relu'),    \n",
    "    keras.layers.Dense(10,  activation= 'softmax')\n",
    "    ])\n",
    "\n",
    "aModel.compile(\n",
    "    loss=     'sparse_categorical_crossentropy',\n",
    "    metrics= ['accuracy']\n",
    "    )\n",
    "\n",
    "aModel.fit(xr1, yr, \n",
    "           epochs= 10, \n",
    "           batch_size= 100)\n",
    "\n",
    "aModel.evaluate(xt1, yt)"
   ]
  },
  {
   "cell_type": "code",
   "execution_count": 10,
   "id": "22b7e84f-a229-4e3b-bdd2-a7c7361b126d",
   "metadata": {},
   "outputs": [
    {
     "name": "stdout",
     "output_type": "stream",
     "text": [
      "Epoch 1/10\n",
      "600/600 [==============================] - 2s 3ms/step - loss: 0.2848 - accuracy: 0.9200\n",
      "Epoch 2/10\n",
      "600/600 [==============================] - 2s 3ms/step - loss: 0.1304 - accuracy: 0.9620\n",
      "Epoch 3/10\n",
      "600/600 [==============================] - 2s 3ms/step - loss: 0.0903 - accuracy: 0.9728\n",
      "Epoch 4/10\n",
      "600/600 [==============================] - 2s 3ms/step - loss: 0.0695 - accuracy: 0.9793\n",
      "Epoch 5/10\n",
      "600/600 [==============================] - 2s 3ms/step - loss: 0.0552 - accuracy: 0.9841\n",
      "Epoch 6/10\n",
      "600/600 [==============================] - 2s 3ms/step - loss: 0.0443 - accuracy: 0.9869\n",
      "Epoch 7/10\n",
      "600/600 [==============================] - 1s 2ms/step - loss: 0.0367 - accuracy: 0.9893\n",
      "Epoch 8/10\n",
      "600/600 [==============================] - 1s 2ms/step - loss: 0.0308 - accuracy: 0.9909\n",
      "Epoch 9/10\n",
      "600/600 [==============================] - 1s 2ms/step - loss: 0.0255 - accuracy: 0.9926\n",
      "Epoch 10/10\n",
      "600/600 [==============================] - 1s 2ms/step - loss: 0.0214 - accuracy: 0.9942\n",
      "313/313 [==============================] - 1s 2ms/step - loss: 0.0769 - accuracy: 0.9791\n"
     ]
    },
    {
     "data": {
      "text/plain": [
       "[0.07686779648065567, 0.9790999889373779]"
      ]
     },
     "execution_count": 10,
     "metadata": {},
     "output_type": "execute_result"
    }
   ],
   "source": [
    "aModel= keras.Sequential([\n",
    "    keras.Input(28*28),\n",
    "    keras.layers.Dense(200, activation= 'relu'),    \n",
    "    keras.layers.Dense(10,  activation= 'softmax')\n",
    "    ])\n",
    "\n",
    "aModel.compile(\n",
    "    loss=     'sparse_categorical_crossentropy',\n",
    "    metrics= ['accuracy']\n",
    "    )\n",
    "\n",
    "aModel.fit(xr1, yr, \n",
    "           epochs= 10, \n",
    "           batch_size= 100)\n",
    "\n",
    "aModel.evaluate(xt1, yt)"
   ]
  },
  {
   "cell_type": "code",
   "execution_count": 11,
   "id": "5188adb1-dbc2-42af-97ca-297d0c33ae5f",
   "metadata": {},
   "outputs": [
    {
     "name": "stdout",
     "output_type": "stream",
     "text": [
      "Epoch 1/10\n",
      "600/600 [==============================] - 2s 3ms/step - loss: 0.3083 - accuracy: 0.9118\n",
      "Epoch 2/10\n",
      "600/600 [==============================] - 2s 3ms/step - loss: 0.1306 - accuracy: 0.9601\n",
      "Epoch 3/10\n",
      "600/600 [==============================] - 2s 3ms/step - loss: 0.0911 - accuracy: 0.9728\n",
      "Epoch 4/10\n",
      "600/600 [==============================] - 2s 3ms/step - loss: 0.0699 - accuracy: 0.9790\n",
      "Epoch 5/10\n",
      "600/600 [==============================] - 2s 3ms/step - loss: 0.0572 - accuracy: 0.9828\n",
      "Epoch 6/10\n",
      "600/600 [==============================] - 2s 3ms/step - loss: 0.0466 - accuracy: 0.9859\n",
      "Epoch 7/10\n",
      "600/600 [==============================] - 2s 3ms/step - loss: 0.0404 - accuracy: 0.9878\n",
      "Epoch 8/10\n",
      "600/600 [==============================] - 2s 3ms/step - loss: 0.0331 - accuracy: 0.9898\n",
      "Epoch 9/10\n",
      "600/600 [==============================] - 2s 3ms/step - loss: 0.0285 - accuracy: 0.9912\n",
      "Epoch 10/10\n",
      "600/600 [==============================] - 2s 3ms/step - loss: 0.0237 - accuracy: 0.9925\n",
      "313/313 [==============================] - 1s 2ms/step - loss: 0.1011 - accuracy: 0.9753\n"
     ]
    },
    {
     "data": {
      "text/plain": [
       "[0.10114099085330963, 0.9753000140190125]"
      ]
     },
     "execution_count": 11,
     "metadata": {},
     "output_type": "execute_result"
    }
   ],
   "source": [
    "aModel= keras.Sequential([\n",
    "    keras.Input(28*28),\n",
    "    keras.layers.Dense(100, activation= 'relu'), \n",
    "    keras.layers.Dense(100, activation= 'relu'), \n",
    "    keras.layers.Dense(10,  activation= 'softmax')\n",
    "    ])\n",
    "\n",
    "aModel.compile(\n",
    "    loss=     'sparse_categorical_crossentropy',\n",
    "    metrics= ['accuracy']\n",
    "    )\n",
    "\n",
    "aModel.fit(xr1, yr, \n",
    "           epochs= 10, \n",
    "           batch_size= 100)\n",
    "\n",
    "aModel.evaluate(xt1, yt)"
   ]
  },
  {
   "cell_type": "code",
   "execution_count": 12,
   "id": "e86ac3ba-b71d-443e-9b83-219886549875",
   "metadata": {},
   "outputs": [
    {
     "name": "stdout",
     "output_type": "stream",
     "text": [
      "Epoch 1/10\n",
      "600/600 [==============================] - 2s 3ms/step - loss: 0.2932 - accuracy: 0.9154\n",
      "Epoch 2/10\n",
      "600/600 [==============================] - 2s 3ms/step - loss: 0.1249 - accuracy: 0.9624\n",
      "Epoch 3/10\n",
      "600/600 [==============================] - 2s 3ms/step - loss: 0.0870 - accuracy: 0.9740\n",
      "Epoch 4/10\n",
      "600/600 [==============================] - 2s 3ms/step - loss: 0.0656 - accuracy: 0.9802\n",
      "Epoch 5/10\n",
      "600/600 [==============================] - 2s 3ms/step - loss: 0.0528 - accuracy: 0.9838\n",
      "Epoch 6/10\n",
      "600/600 [==============================] - 2s 3ms/step - loss: 0.0429 - accuracy: 0.9870\n",
      "Epoch 7/10\n",
      "600/600 [==============================] - 2s 3ms/step - loss: 0.0353 - accuracy: 0.9894\n",
      "Epoch 8/10\n",
      "600/600 [==============================] - 2s 3ms/step - loss: 0.0295 - accuracy: 0.9912\n",
      "Epoch 9/10\n",
      "600/600 [==============================] - 2s 3ms/step - loss: 0.0247 - accuracy: 0.9925\n",
      "Epoch 10/10\n",
      "600/600 [==============================] - 2s 3ms/step - loss: 0.0205 - accuracy: 0.9937\n",
      "313/313 [==============================] - 1s 2ms/step - loss: 0.0933 - accuracy: 0.9775\n"
     ]
    },
    {
     "data": {
      "text/plain": [
       "[0.09333913028240204, 0.9775000214576721]"
      ]
     },
     "execution_count": 12,
     "metadata": {},
     "output_type": "execute_result"
    }
   ],
   "source": [
    "aModel= keras.Sequential([\n",
    "    keras.Input(28*28),\n",
    "    keras.layers.Dense(150, activation= 'relu'), \n",
    "    keras.layers.Dense(50,  activation= 'relu'), \n",
    "    keras.layers.Dense(10,  activation= 'softmax')\n",
    "    ])\n",
    "\n",
    "aModel.compile(\n",
    "    loss=     'sparse_categorical_crossentropy',\n",
    "    metrics= ['accuracy']\n",
    "    )\n",
    "\n",
    "aModel.fit(xr1, yr, \n",
    "           epochs= 10, \n",
    "           batch_size= 100)\n",
    "\n",
    "aModel.evaluate(xt1, yt)"
   ]
  },
  {
   "cell_type": "markdown",
   "id": "8b4ee66f-1d7c-4cf2-bc53-6107399974b9",
   "metadata": {},
   "source": [
    "# 想想看，你能做那些改進來提升正確率 (accuracy) ？\n"
   ]
  },
  {
   "cell_type": "code",
   "execution_count": null,
   "id": "41d802a2-1411-4e0f-b9e3-8aaba68b5323",
   "metadata": {},
   "outputs": [],
   "source": []
  }
 ],
 "metadata": {
  "kernelspec": {
   "display_name": "Python 3 (ipykernel)",
   "language": "python",
   "name": "python3"
  },
  "language_info": {
   "codemirror_mode": {
    "name": "ipython",
    "version": 3
   },
   "file_extension": ".py",
   "mimetype": "text/x-python",
   "name": "python",
   "nbconvert_exporter": "python",
   "pygments_lexer": "ipython3",
   "version": "3.9.12"
  }
 },
 "nbformat": 4,
 "nbformat_minor": 5
}
